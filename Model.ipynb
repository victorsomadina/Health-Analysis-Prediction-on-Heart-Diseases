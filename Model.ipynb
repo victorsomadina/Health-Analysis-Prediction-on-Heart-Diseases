{
 "cells": [
  {
   "cell_type": "code",
   "execution_count": 5,
   "metadata": {},
   "outputs": [],
   "source": [
    "import pandas as pd\n",
    "import warnings\n",
    "import matplotlib.pyplot as plt\n",
    "warnings.filterwarnings('ignore')"
   ]
  },
  {
   "cell_type": "code",
   "execution_count": 222,
   "metadata": {},
   "outputs": [],
   "source": [
    "# Load dataset and check proportion of class imbalance\n",
    "train = pd.read_csv(r'C:\\Users\\hp\\Downloads\\Train Dataset .csv')\n",
    "test =  pd.read_csv(r'C:\\Users\\hp\\Downloads\\Test Dataset.csv')"
   ]
  },
  {
   "cell_type": "markdown",
   "metadata": {},
   "source": [
    "## Feature Engineering"
   ]
  },
  {
   "cell_type": "code",
   "execution_count": 223,
   "metadata": {},
   "outputs": [],
   "source": [
    "train['high_chol_if_exang'] = ((train['chol'] > 240) & (train['exang'] == 1)).astype(int)\n",
    "train['high_chol_ifnot_exang'] = ((train['chol'] > 240) & (train['exang'] == 0)).astype(int)\n",
    "train['high_trestbps_if_exang'] = ((train['trestbps'] > 130) & (train['exang'] == 1)).astype(int)\n",
    "train['high_trestbps_ifnot_exang'] = ((train['trestbps'] > 130) & (train['exang'] == 0)).astype(int)\n",
    "train['low_trestbps_if_exang'] = ((train['trestbps'] < 130) & (train['exang'] == 1)).astype(int)\n",
    "train['low_trestbps_ifnot_exang'] = ((train['trestbps'] < 130) & (train['exang'] == 0)).astype(int)\n",
    "train['ttal'] = train['high_chol_if_exang'] + train['high_trestbps_if_exang'] \n",
    "train['exang_thalach_interaction'] = train['exang'] * train['thalach']\n",
    "train['exang_age_interaction'] = train['exang'] * train['Age']\n",
    "train['high_age_if_exang'] = ((train['chol'] >  60) & (train['exang'] == 1)).astype(int)\n",
    "train['high_age_ifnot_exang'] = ((train['chol'] >  60) & (train['exang'] == 0)).astype(int)\n",
    "train['male_if_exang'] = ((train['Sex'] == 1) & (train['exang'] == 1)).astype(int)\n",
    "train['fmale_if_exang'] = ((train['Sex'] == 0) & (train['exang'] == 1)).astype(int)\n",
    "train['male_ifnot_exang'] = ((train['Sex'] == 1) & (train['exang'] == 0)).astype(int)\n",
    "train['fmale_ifnot_exang'] = ((train['Sex'] == 0) & (train['exang'] == 0)).astype(int)"
   ]
  },
  {
   "cell_type": "code",
   "execution_count": 224,
   "metadata": {},
   "outputs": [],
   "source": [
    "test.rename(columns = {'age':'Age', 'sex':'Sex', 'id':'Id'}, inplace=True)"
   ]
  },
  {
   "cell_type": "code",
   "execution_count": 225,
   "metadata": {},
   "outputs": [],
   "source": [
    "test['high_chol_if_exang'] = ((test['chol'] > 240) & (test['exang'] == 1)).astype(int)\n",
    "test['high_chol_ifnot_exang'] = ((test['chol'] > 240) & (test['exang'] == 0)).astype(int)\n",
    "test['high_trestbps_if_exang'] = ((test['trestbps'] > 130) & (test['exang'] == 1)).astype(int)\n",
    "test['high_trestbps_ifnot_exang'] = ((test['trestbps'] > 130) & (test['exang'] == 0)).astype(int)\n",
    "test['low_trestbps_if_exang'] = ((test['trestbps'] < 130) & (test['exang'] == 1)).astype(int)\n",
    "test['low_trestbps_ifnot_exang'] = ((test['trestbps'] < 130) & (test['exang'] == 0)).astype(int)\n",
    "test['ttal'] = test['high_chol_if_exang'] + test['high_trestbps_if_exang'] \n",
    "test['exang_thalach_interaction'] = test['exang'] * test['thalach']\n",
    "test['exang_age_interaction'] = test['exang'] * test['Age']\n",
    "test['high_age_if_exang'] = ((test['chol'] >  60) & (test['exang'] == 1)).astype(int)\n",
    "test['high_age_ifnot_exang'] = ((test['chol'] >  60) & (test['exang'] == 0)).astype(int)\n",
    "test['male_if_exang'] = ((test['Sex'] == 1) & (test['exang'] == 1)).astype(int)\n",
    "test['fmale_if_exang'] = ((test['Sex'] == 0) & (test['exang'] == 1)).astype(int)\n",
    "test['male_ifnot_exang'] = ((test['Sex'] == 1) & (test['exang'] == 0)).astype(int)\n",
    "test['fmale_ifnot_exang'] = ((test['Sex'] == 0) & (test['exang'] == 0)).astype(int)"
   ]
  },
  {
   "cell_type": "markdown",
   "metadata": {},
   "source": [
    "### Feature Selection\n",
    "Using Mutual_Info Classif"
   ]
  },
  {
   "cell_type": "code",
   "execution_count": 226,
   "metadata": {},
   "outputs": [
    {
     "name": "stdout",
     "output_type": "stream",
     "text": [
      "high_age_ifnot_exang         0.155391\n",
      "high_age_if_exang            0.152533\n",
      "exang                        0.152417\n",
      "exang_age_interaction        0.152369\n",
      "exang_thalach_interaction    0.146698\n",
      "ttal                         0.128685\n",
      "high_chol_if_exang           0.102403\n",
      "high_trestbps_if_exang       0.085970\n",
      "high_chol_ifnot_exang        0.065211\n",
      "male_if_exang                0.064455\n",
      "cp                           0.061066\n",
      "fmale_if_exang               0.058343\n",
      "high_trestbps_ifnot_exang    0.048956\n",
      "fmale_ifnot_exang            0.046091\n",
      "low_trestbps_if_exang        0.040454\n",
      "male_ifnot_exang             0.031989\n",
      "low_trestbps_ifnot_exang     0.017719\n",
      "thalach                      0.003472\n",
      "chol                         0.003353\n",
      "Age                          0.001172\n",
      "thal                         0.000952\n",
      "ca                           0.000504\n",
      "restecg                      0.000183\n",
      "slope                        0.000000\n",
      "oldpeak                      0.000000\n",
      "fbs                          0.000000\n",
      "trestbps                     0.000000\n",
      "Sex                          0.000000\n",
      "Id                           0.000000\n",
      "dtype: float64\n"
     ]
    }
   ],
   "source": [
    "import pandas as pd\n",
    "from sklearn.feature_selection import mutual_info_classif\n",
    "\n",
    "X = train.drop(columns=['target'])\n",
    "y = train['target']\n",
    "mutual_info = mutual_info_classif(X, y, random_state=1)\n",
    "feature_scores = pd.Series(mutual_info, index=X.columns).sort_values(ascending=False)\n",
    "print(feature_scores)\n",
    "\n",
    "train_set = feature_scores.index[:15].tolist()"
   ]
  },
  {
   "cell_type": "markdown",
   "metadata": {},
   "source": [
    "### Train Base Model"
   ]
  },
  {
   "cell_type": "code",
   "execution_count": 227,
   "metadata": {},
   "outputs": [],
   "source": [
    "# Base Model using Logistics Regression\n",
    "from sklearn.linear_model import LogisticRegression\n",
    "from sklearn.model_selection import train_test_split\n",
    "from sklearn.metrics import accuracy_score\n",
    "from imblearn.over_sampling import SMOTE\n",
    "from sklearn.model_selection import KFold, cross_val_score\n",
    "import numpy as np\n",
    "\n",
    "X = train.drop(columns=['target'])  # separate into dependent and independent(x) variables\n",
    "y = train['target']\n",
    "X = X[train_set]\n",
    "#test = test[train_set]\n",
    "\n",
    "x_train, x_test, y_train, y_test = train_test_split(X, y, test_size=0.2, random_state=42) #split dataset"
   ]
  },
  {
   "cell_type": "code",
   "execution_count": 228,
   "metadata": {},
   "outputs": [
    {
     "name": "stdout",
     "output_type": "stream",
     "text": [
      "test_acc: 0.8254620123203286\n"
     ]
    }
   ],
   "source": [
    "def base_model(x, y, x_test = x_test, y_test = y_test):\n",
    "    model = LogisticRegression(random_state=42, max_iter=30)\n",
    "    model.fit(x_train, y_train)\n",
    "    y_pred = model.predict(x_test)\n",
    "\n",
    "\n",
    "    print(f'test_acc: {accuracy_score(y_test, y_pred)}')\n",
    "base_model(x_train, y_train)"
   ]
  },
  {
   "cell_type": "markdown",
   "metadata": {},
   "source": [
    "## Train XGBoost Model"
   ]
  },
  {
   "cell_type": "code",
   "execution_count": 230,
   "metadata": {},
   "outputs": [
    {
     "name": "stdout",
     "output_type": "stream",
     "text": [
      "100%|██████████| 100/100 [03:42<00:00,  2.22s/trial, best loss: 0.18376074659784836]\n",
      "Best hyperparameters: {'gamma': 0.3809586511326805, 'learning_rate': 0.010231006731096733, 'max_depth': 10.0, 'n_estimators': 2, 'reg_alpha': 0.6370836893631369, 'reg_lambda': 0.15105866637207888, 'subsample': 0.9307334100822032}\n"
     ]
    }
   ],
   "source": [
    "from hyperopt import fmin, tpe, hp, STATUS_OK\n",
    "from sklearn.model_selection import cross_val_score, StratifiedKFold\n",
    "import xgboost as xgb\n",
    "import numpy as np\n",
    "\n",
    "space = {\n",
    "    'n_estimators': hp.choice('n_estimators', [100, 200, 300, 400]),  \n",
    "    'max_depth': hp.quniform('max_depth', 3, 10, 1),  # this needs to be cast to an int                   \n",
    "    'learning_rate': hp.uniform('learning_rate', 0.01, 0.1),           \n",
    "    'subsample': hp.uniform('subsample', 0.7, 1.0),                    \n",
    "    'gamma': hp.uniform('gamma', 0, 0.5),                              \n",
    "    'reg_alpha': hp.uniform('reg_alpha', 0, 1.0),                      \n",
    "    'reg_lambda': hp.uniform('reg_lambda', 0.1, 1.0)                   \n",
    "}\n",
    "\n",
    "def objective(params):\n",
    "    params['max_depth'] = int(params['max_depth'])\n",
    "    model = xgb.XGBClassifier(**params, random_state=42, eval_metric='auc', objective='binary:logistic')\n",
    "    skf = StratifiedKFold(n_splits=4, shuffle=True, random_state=42)\n",
    "    scores = cross_val_score(model, X, y, cv=skf, scoring='accuracy')\n",
    "    accuracy = np.mean(scores)\n",
    "    loss = 1 - accuracy\n",
    "    return {'loss': loss, 'status': STATUS_OK}\n",
    "best = fmin(fn=objective, space=space, algo=tpe.suggest, max_evals=100)\n",
    "\n",
    "print(\"Best hyperparameters:\", best)\n"
   ]
  },
  {
   "cell_type": "code",
   "execution_count": 231,
   "metadata": {},
   "outputs": [
    {
     "data": {
      "text/plain": [
       "0.8135013278518807"
      ]
     },
     "execution_count": 231,
     "metadata": {},
     "output_type": "execute_result"
    }
   ],
   "source": [
    "from sklearn.model_selection import StratifiedKFold, cross_val_score\n",
    "skf = StratifiedKFold(n_splits=4, shuffle=True, random_state=42)\n",
    "model = xgb.XGBClassifier(gamma = 0.3809586511326805, learning_rate = 0.010231006731096733, max_depth = 10, n_estimators = 2, reg_alpha =  0.6370836893631369, \n",
    "                          reg_lambda = 0.15105866637207888, subsample = 0.9307334100822032)\n",
    "cross_val_score(model, X, y, cv = skf, scoring= 'accuracy').mean()"
   ]
  },
  {
   "cell_type": "code",
   "execution_count": null,
   "metadata": {},
   "outputs": [],
   "source": []
  }
 ],
 "metadata": {
  "kernelspec": {
   "display_name": "Python 3",
   "language": "python",
   "name": "python3"
  },
  "language_info": {
   "codemirror_mode": {
    "name": "ipython",
    "version": 3
   },
   "file_extension": ".py",
   "mimetype": "text/x-python",
   "name": "python",
   "nbconvert_exporter": "python",
   "pygments_lexer": "ipython3",
   "version": "3.11.7"
  }
 },
 "nbformat": 4,
 "nbformat_minor": 2
}
